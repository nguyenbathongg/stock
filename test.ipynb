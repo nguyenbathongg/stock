{
 "cells": [
  {
   "cell_type": "code",
   "execution_count": 7,
   "id": "50c8023d",
   "metadata": {},
   "outputs": [],
   "source": [
    "import duckdb\n",
    "import findspark\n",
    "findspark.init()\n",
    "from pyspark.sql import SparkSession\n"
   ]
  },
  {
   "cell_type": "code",
   "execution_count": 8,
   "id": "e285f534",
   "metadata": {},
   "outputs": [
    {
     "name": "stderr",
     "output_type": "stream",
     "text": [
      "25/04/25 18:48:24 WARN Utils: Your hostname, thong-ThinkPad-X1-Carbon-Gen-11 resolves to a loopback address: 127.0.1.1; using 192.168.1.84 instead (on interface wlp0s20f3)\n",
      "25/04/25 18:48:24 WARN Utils: Set SPARK_LOCAL_IP if you need to bind to another address\n",
      "25/04/25 18:48:25 WARN NativeCodeLoader: Unable to load native-hadoop library for your platform... using builtin-java classes where applicable\n"
     ]
    },
    {
     "name": "stderr",
     "output_type": "stream",
     "text": [
      "25/04/25 18:48:36 WARN GarbageCollectionMetrics: To enable non-built-in garbage collector(s) List(G1 Concurrent GC), users should configure it(them) to spark.eventLog.gcMetrics.youngGenerationGarbageCollectors or spark.eventLog.gcMetrics.oldGenerationGarbageCollectors\n"
     ]
    }
   ],
   "source": [
    "spark = SparkSession.builder.appName(\"Company\").getOrCreate()"
   ]
  },
  {
   "cell_type": "code",
   "execution_count": 4,
   "id": "790fe034",
   "metadata": {},
   "outputs": [
    {
     "name": "stdout",
     "output_type": "stream",
     "text": [
      "2025-05-14\n"
     ]
    }
   ],
   "source": [
    "import datetime\n",
    "date_crawl = (datetime.datetime.today() - datetime.timedelta(days=1)).strftime(\"%Y-%m-%d\")\n",
    "print(date_crawl)"
   ]
  },
  {
   "cell_type": "code",
   "execution_count": 9,
   "id": "c22b6220",
   "metadata": {},
   "outputs": [
    {
     "name": "stdout",
     "output_type": "stream",
     "text": [
      "Total records fetched: 15080\n",
      "Data saved to /home/thong/WorkSpace/Project/elt/data/raw/ohlcv/crawl_ohlcv_2025_05_14.json\n"
     ]
    }
   ],
   "source": [
    "import os\n",
    "import requests\n",
    "import json\n",
    "import datetime\n",
    "\n",
    "date_crawl = (datetime.datetime.today() - datetime.timedelta(days=1)).strftime(\"%Y-%m-%d\")\n",
    "\n",
    "API_KEY = os.getenv(\"POLYGON_API_KEY\")\n",
    "\n",
    "# Set the parameters for the API request\n",
    "adjusted = \"true\"\n",
    "include_otc = \"true\"\n",
    "\n",
    "# Contruct the URL for the API request\n",
    "url = f'https://api.polygon.io/v2/aggs/grouped/locale/us/market/stocks/{date_crawl}?adjusted={adjusted}&include_otc={include_otc}&apiKey={API_KEY}'\n",
    "\n",
    "# print(url)\n",
    "# print(API_KEY)\n",
    "response = requests.get(url)\n",
    "\n",
    "data = response.json()\n",
    "data = data.get(\"results\", [])\n",
    "\n",
    "json_object = json.dumps(data, indent=4)\n",
    "\n",
    "date = (datetime.datetime.today() - datetime.timedelta(days=1)).strftime(\"%Y_%m_%d\")\n",
    "\n",
    "path = f\"/home/thong/WorkSpace/Project/elt/data/raw/ohlcv/crawl_ohlcv_{date}.json\"\n",
    "\n",
    "with open(path, \"w\") as outfile:\n",
    "    outfile.write(json_object)\n",
    "print(f\"Total records fetched: {len(data)}\")\n",
    "print(f\"Data saved to {path}\")"
   ]
  }
 ],
 "metadata": {
  "kernelspec": {
   "display_name": ".venv",
   "language": "python",
   "name": "python3"
  },
  "language_info": {
   "codemirror_mode": {
    "name": "ipython",
    "version": 3
   },
   "file_extension": ".py",
   "mimetype": "text/x-python",
   "name": "python",
   "nbconvert_exporter": "python",
   "pygments_lexer": "ipython3",
   "version": "3.12.3"
  }
 },
 "nbformat": 4,
 "nbformat_minor": 5
}
